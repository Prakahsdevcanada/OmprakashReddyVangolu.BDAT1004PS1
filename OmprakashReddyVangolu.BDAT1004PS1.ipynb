{
 "cells": [
  {
   "cell_type": "markdown",
   "id": "162c3adf",
   "metadata": {},
   "source": [
    "## Question 1\n",
    "\n",
    "    What data type is each of the following (evaluate where necessary)?\n",
    "    5\n",
    "    5.0\n",
    "    5 > 1\n",
    "    '5'\n",
    "    5 * 2\n",
    "    '5' * 2\n",
    "    '5' + '2'\n",
    "    5 / 2\n",
    "    5 % 2\n",
    "    {5, 2, 1}\n",
    "    5 == 3\n",
    "    Pi (the number)"
   ]
  },
  {
   "cell_type": "code",
   "execution_count": 9,
   "id": "ddd92088",
   "metadata": {
    "scrolled": true
   },
   "outputs": [
    {
     "name": "stdout",
     "output_type": "stream",
     "text": [
      "<class 'int'>\n",
      "<class 'float'>\n",
      "<class 'bool'>\n",
      "<class 'str'>\n",
      "<class 'int'>\n",
      "<class 'str'>\n",
      "<class 'str'>\n",
      "<class 'float'>\n",
      "<class 'int'>\n",
      "<class 'set'>\n",
      "<class 'bool'>\n",
      "<class 'float'>\n"
     ]
    }
   ],
   "source": [
    "print(type(5))\n",
    "print(type(5.0))\n",
    "print(type(5>1))\n",
    "print(type('5'))\n",
    "print(type(5 * 2))\n",
    "print(type('5' * 2))\n",
    "print(type('5' + '2'))\n",
    "print(type(5 / 2))\n",
    "print(type(5 % 2))\n",
    "print(type({5, 2, 1}))\n",
    "print(type(5 == 3))\n",
    "\n",
    "import math\n",
    "print(type(math.pi))"
   ]
  },
  {
   "cell_type": "markdown",
   "id": "4dde84f8",
   "metadata": {},
   "source": [
    "## Question2\n",
    "    Write (and evaluate) python expressions that answer these questions:\n",
    "    a. How many letters are there in 'Supercalifragilisticexpialidocious'?\n",
    "    b. Does 'Supercalifragilisticexpialidocious' contain 'ice' as a substring?\n",
    "    c. Which of the following words is the longest:\n",
    "    Supercalifragilisticexpialidocious, Honorificabilitudinitatibus, or\n",
    "    Bababadalgharaghtakamminarronnkonn?\n",
    "    d. Which composer comes first in the dictionary: 'Berlioz', 'Borodin', 'Brian',\n",
    "    'Bartok', 'Bellini', 'Buxtehude', 'Bernstein'. Which one comes last?"
   ]
  },
  {
   "cell_type": "code",
   "execution_count": 64,
   "id": "9f34fae2",
   "metadata": {
    "scrolled": false
   },
   "outputs": [
    {
     "name": "stdout",
     "output_type": "stream",
     "text": [
      "The length of the word is 34\n",
      "True\n",
      "34\n",
      "27\n",
      "34\n",
      "['Bartok', 'Bellini', 'Berlioz', 'Bernstein', 'Borodin', 'Brian', 'Buxtehude']\n",
      "The first in the dictionary is Bartok.\n",
      "The last in the dictionary is Buxtehude.\n"
     ]
    }
   ],
   "source": [
    "#2.a.\n",
    "# The string is \"Supercalifragilisticexpialidocious\"\n",
    "word = \"Supercalifragilisticexpialidocious\"\n",
    "print(f\"The length of the word is {len(word)}\")\n",
    "\n",
    "\n",
    "#2.b\n",
    "word1 = \"Supercalifragilisticexpialidocious\"\n",
    "print('ice' in word1)\n",
    "\n",
    "#2.c\n",
    "word2 = \"Supercalifragilisticexpialidocious\"\n",
    "word3 = \"Honorificabilitudinitatibus\"\n",
    "word4 = \"Bababadalgharaghtakamminarronnkonn\"\n",
    "\n",
    "#max(word2,word3,word4)\n",
    "\n",
    "print(len(word2))\n",
    "print(len(word3))\n",
    "print(len(word4))\n",
    "\n",
    "#Both word2 and word4 are of same length and the length is 34\n",
    "\n",
    "#2.d\n",
    "\n",
    "list1 = ['Berlioz', 'Borodin', 'Brian','Bartok', 'Bellini', 'Buxtehude', 'Bernstein']\n",
    "list1.sort()\n",
    "print(list1)\n",
    "\n",
    "print(f\"The first in the dictionary is {list1[0]}.\")\n",
    "print(f\"The last in the dictionary is {list1[-1]}.\")\n",
    " #The first in the dictionary is 'Bartok'\n",
    " #The second in the dictionary is 'Buxtehude'\n"
   ]
  },
  {
   "cell_type": "markdown",
   "id": "06a5e446",
   "metadata": {},
   "source": [
    "## Question 3\n",
    "    Implement function triangleArea(a,b,c) that takes as input the lengths of the 3\n",
    "    sides of a triangle and returns the area of the triangle. By Heron's formula, the area\n",
    "    of a triangle with side lengths a, b, and c is\n",
    "    s(s - a)(s -b)(s -c)\n",
    "    , where\n",
    "    s = (a+b+c)/2.\n",
    "    >>> triangleArea(2,2,2)\n",
    "    1.7320508075688772"
   ]
  },
  {
   "cell_type": "code",
   "execution_count": 68,
   "id": "2f8c814d",
   "metadata": {
    "scrolled": true
   },
   "outputs": [
    {
     "data": {
      "text/plain": [
       "1.7320508075688772"
      ]
     },
     "execution_count": 68,
     "metadata": {},
     "output_type": "execute_result"
    }
   ],
   "source": [
    "import math\n",
    "\n",
    "def triangleArea(a,b,c):\n",
    "    s = (a+b+c)/2\n",
    "    calc = s*(s-a)*(s-b)*(s-c)\n",
    "    Area_of_triangle = math.sqrt(calc)\n",
    "    return Area_of_triangle\n",
    "    \n",
    "#print(triangleArea(2,2,2))\n",
    "triangleArea(2,2,2)"
   ]
  },
  {
   "cell_type": "markdown",
   "id": "4ded7987",
   "metadata": {},
   "source": [
    "## Question 4\n",
    "    Write a program in python to separate odd and even integers in separate arrays. Go\n",
    "    to the editor\n",
    "    Test Data :\n",
    "    Input the number of elements to be stored in the array :5\n",
    "    Input 5 elements in the array :\n",
    "    element - 0 : 25\n",
    "    element - 1 : 47\n",
    "    element - 2 : 42\n",
    "    element - 3 : 56\n",
    "    element - 4 : 32\n",
    "    Expected Output:\n",
    "    The Even elements are:\n",
    "    42 56 32\n",
    "    The Odd elements are :\n",
    "    25 47"
   ]
  },
  {
   "cell_type": "code",
   "execution_count": 62,
   "id": "9ff72990",
   "metadata": {
    "scrolled": true
   },
   "outputs": [
    {
     "name": "stdout",
     "output_type": "stream",
     "text": [
      "Enter the number of elements to be sorted: 5\n",
      "element - 0 : 22\n",
      "element - 1 : 11\n",
      "element - 2 : 33\n",
      "element - 3 : 44\n",
      "element - 4 : 33\n",
      "[22, 44]\n",
      "[11, 33, 33]\n"
     ]
    }
   ],
   "source": [
    "input_ele = int(input(\"Enter the number of elements to be sorted: \"))\n",
    "#list1 = []\n",
    "list2 = []\n",
    "list3 = []\n",
    "for x in range(input_ele):\n",
    "    y = int(input(f\"element - {x} : \"))\n",
    "    #list1.append(y)\n",
    "    if y%2==0:\n",
    "        list2.append(y)\n",
    "    else:\n",
    "        list3.append(y)\n",
    "#print(\" \".join([str(i) for i in list2]))\n",
    "print(list2)\n",
    "print(list3)\n",
    "#print(list1)"
   ]
  },
  {
   "cell_type": "markdown",
   "id": "ab347e3b",
   "metadata": {},
   "source": [
    "## Question 5\n",
    "    a. Write a function inside(x,y,x1,y1,x2,y2) that returns True or False depending on whether the point (x,y) lies in the rectangle with lower left corner (x1,y1) and upper right corner (x2,y2).\n",
    "    >>> inside(1,1,0,0,2,3)\n",
    "    True\n",
    "    >>> inside(-1,-1,0,0,2,3)\n",
    "    False\n",
    "    b. Use function inside() from part a. to write an expression that tests whether the point (1,1) lies in both of the following rectangles: one with lower left corner (0.3, 0.5) and upper right corner (1.1, 0.7) and the other with lower left corner (0.5, 0.2) and upper right corner (1.1, 2)."
   ]
  },
  {
   "cell_type": "code",
   "execution_count": 145,
   "id": "4caa6967",
   "metadata": {
    "scrolled": true
   },
   "outputs": [
    {
     "name": "stdout",
     "output_type": "stream",
     "text": [
      "False\n",
      "True\n"
     ]
    }
   ],
   "source": [
    "import math\n",
    "# def triangleArea(a,b,c):\n",
    "#     s = (a+b+c)/2\n",
    "#     calc = s*(s-a)*(s-b)*(s-c)\n",
    "#     Area_of_triangle = math.sqrt(calc)\n",
    "#     return Area_of_triangle\n",
    "\n",
    "\n",
    "def areaoftriangle(x,y,x1,y1,x2,y2):\n",
    "    a = x*(y1-y2)\n",
    "    b = x1*(y2-y)\n",
    "    c = x2*(y-y1)\n",
    "    #print (a,b,c)\n",
    "    calc = abs((a+b+c)/2)\n",
    "    return (calc)\n",
    "\n",
    "#areaoftriangle(0,0,0,2,2,0)\n",
    "\n",
    "\n",
    "def inside(x,y,x1,y1,x2,y2):\n",
    "    x3 = x1\n",
    "    y3 = y2\n",
    "    x4 = x2\n",
    "    y4 = y1\n",
    "    triangle1 = areaoftriangle(x,y,x1,y1,x2,y2)\n",
    "    triangle2 = areaoftriangle(x,y,x2,y2,x3,y3)\n",
    "    triangle3 = areaoftriangle(x,y,x3,y3,x4,y4)\n",
    "    triangle4 = areaoftriangle(x,y,x4,y4,x1,y1)\n",
    "    #print(triangle1,triangle2,triangle3,triangle4)\n",
    "    #sumoftriangles = int(triangle1) + int(triangle2) + int(triangle3) + int(triangle4)\n",
    "    sumoftriangles = triangle1 + triangle2 + triangle3 + triangle4\n",
    "    #print(f\"the sum of the tirangels id {sumoftriangles}\")\n",
    "    areaofrectangle = abs((y2-y1)*(x2-x1))\n",
    "    #print(f\"The area of the rectangle is {areaofrectangle}\")\n",
    "    \n",
    "    if sumoftriangles <= areaofrectangle:\n",
    "        print(True)\n",
    "        #print(f\"The point {x,y} is inside the rectangle\")\n",
    "    else:\n",
    "        print(False)\n",
    "        #print(f\"The point {x,y} is outside the rectangle\")\n",
    "\n",
    "# inside(1,1,0,0,2,3)\n",
    "# inside(-1,-1,0,0,2,3)\n",
    "\n",
    "#5.b\n",
    "inside(1,1,0.3,0.5,1.1,0.7)\n",
    "inside(1,1,0.5,0.2,1.1,2)"
   ]
  },
  {
   "cell_type": "markdown",
   "id": "f9979cc7",
   "metadata": {},
   "source": [
    "## Question 6\n",
    "    16. You can turn a word into pig-Latin using the following two rules (simplified):\n",
    "    • If the word starts with a consonant, move that letter to the end and append 'ay'. For example, 'happy' becomes 'appyhay' and 'pencil' becomes 'encilpay'.\n",
    "    • If the word starts with a vowel, simply append 'way' to the end of the word. For example, 'enter' becomes 'enterway' and 'other' becomes 'otherway' . For our purposes, there are 5 vowels: a, e, i, o, u (so we count y as a consonant).\n",
    "    Write a function pig() that takes a word (i.e., a string) as input and returns its pig-Latin form. Your function should still work if the input word contains upper case characters. Your output should always be lower case however.\n",
    "    >>> pig('happy')\n",
    "    'appyhay'\n",
    "    >>> pig('Enter')\n",
    "    'enterway'"
   ]
  },
  {
   "cell_type": "code",
   "execution_count": 162,
   "id": "578da66e",
   "metadata": {
    "scrolled": true
   },
   "outputs": [
    {
     "name": "stdout",
     "output_type": "stream",
     "text": [
      "appyhay\n",
      "enterway\n"
     ]
    }
   ],
   "source": [
    "vowels = ['a','e','i','o','u']\n",
    "#vowels = ['a','e','i','o','u','A','E','I','O','U']\n",
    "\n",
    "def pig(x):\n",
    "    x = x.lower()\n",
    "    if x[0] in vowels:\n",
    "        #x.append(way)\n",
    "        print(x+'way')\n",
    "    else:\n",
    "        print(x[1:]+x[0]+'ay')\n",
    "\n",
    "pig('happy')\n",
    "pig('Enter')"
   ]
  },
  {
   "cell_type": "markdown",
   "id": "ecc26b2b",
   "metadata": {},
   "source": [
    "## Question 7\n",
    "    File bloodtype1.txt records blood-types of patients (A, B, AB, O or OO) at a clinic. Write a function bldcount() that reads the file with name name and reports (i.e., prints) how many patients there are in each bloodtype.\n",
    "    >>> bldcount('bloodtype.txt')\n",
    "    There are 10 patients of blood type A.\n",
    "    There is one patient of blood type B.\n",
    "    There are 10 patients of blood type AB.\n",
    "    There are 12 patients of blood type O.\n",
    "    There are no patients of blood type OO."
   ]
  },
  {
   "cell_type": "code",
   "execution_count": 123,
   "id": "2fd4ca56",
   "metadata": {
    "scrolled": true
   },
   "outputs": [
    {
     "name": "stdout",
     "output_type": "stream",
     "text": [
      "There are 15  patients of blood type A.\n",
      "There are 1  patients of blood type B.\n",
      "There are 13  patients of blood type AB.\n",
      "There are 15  patients of blood type O.\n",
      "There are 0  patients of blood type OO.\n"
     ]
    }
   ],
   "source": [
    "def bldcount(f):\n",
    "    f = open(f)\n",
    "    f = f.readline()\n",
    "    f = f.split()\n",
    "    # print(len(f))\n",
    "    #print(f)\n",
    "    #print(len(f))\n",
    "    numA = 0\n",
    "    numB = 0\n",
    "    numAB = 0\n",
    "    numO = 0\n",
    "    numOO = 0\n",
    "    for x in f:\n",
    "        if x == 'A':\n",
    "            numA += 1\n",
    "        elif x == 'B':\n",
    "            numB += 1\n",
    "        elif x == 'AB':\n",
    "            numAB += 1\n",
    "        elif x == 'O':\n",
    "            numO += 1\n",
    "        elif x == 'OO':\n",
    "            numOO += 1\n",
    "        else:\n",
    "            pass\n",
    "    print(f\"There are {numA}  patients of blood type A.\")\n",
    "    print(f\"There are {numB}  patients of blood type B.\")\n",
    "    print(f\"There are {numAB}  patients of blood type AB.\")\n",
    "    print(f\"There are {numO}  patients of blood type O.\")\n",
    "    print(f\"There are {numOO}  patients of blood type OO.\")\n",
    "    f.clear()\n",
    "bldcount(\"bloodtype.txt\")\n"
   ]
  },
  {
   "cell_type": "markdown",
   "id": "5a3029b1",
   "metadata": {},
   "source": [
    "## Question 8\n",
    "    Write a function curconv() that takes as input:\n",
    "    1. a currency represented using a string (e.g., 'JPY' for the Japanese Yen or 'EUR' for the Euro)\n",
    "    2. an amount\n",
    "    and then converts and returns the amount in US dollars.\n",
    "    >>> curconv('EUR', 100)\n",
    "    122.96544\n",
    "    >>> curconv('JPY', 100)\n",
    "    1.241401\n",
    "    The currency rates you will need are stored in file currencies.txt:\n",
    "    AUD 1.0345157 Australian Dollar\n",
    "    CHF 1.0237414 Swiss Franc\n",
    "    CNY 0.1550176 Chinese Yuan\n",
    "    DKK 0.1651442 Danish Krone\n",
    "    EUR 1.2296544 Euro\n",
    "    GBP 1.5550989 British Pound\n",
    "    HKD 0.1270207 Hong Kong Dollar\n",
    "    INR 0.0177643 Indian Rupee\n",
    "    JPY 0.01241401 Japanese Yen\n",
    "    MXN 0.0751848 Mexican Peso\n",
    "    MYR 0.3145411 Malaysian Ringgit\n",
    "    NOK 0.1677063 Norwegian Krone\n",
    "    NZD 0.8003591 New Zealand Dollar\n",
    "    PHP 0.0233234 Philippine Peso\n",
    "    SEK 0.148269 Swedish Krona\n",
    "    SGD 0.788871 Singapore Dollar\n",
    "    THB 0.0313789 Thai Baht"
   ]
  },
  {
   "cell_type": "code",
   "execution_count": 134,
   "id": "5b972358",
   "metadata": {
    "scrolled": false
   },
   "outputs": [
    {
     "data": {
      "text/plain": [
       "1.2414"
      ]
     },
     "execution_count": 134,
     "metadata": {},
     "output_type": "execute_result"
    }
   ],
   "source": [
    "f1 = '''AUD 1.0345157\n",
    "CHF 1.0237414\n",
    "CNY 0.1550176\n",
    "DKK 0.1651442\n",
    "EUR 1.2296544\n",
    "GBP 1.5550989\n",
    "HKD 0.1270207\n",
    "INR 0.0177643\n",
    "JPY 0.0124140\n",
    "MXN 0.0751848\n",
    "MYR 0.3145411\n",
    "NOK 0.1677063\n",
    "NZD 0.8003591\n",
    "PHP 0.0233234\n",
    "SEK 0.148269 \n",
    "SGD 0.788871 \n",
    "THB 0.0313789'''\n",
    "\n",
    "\n",
    "f1 = f1.split(\"\\n\")\n",
    "# print(f1)\n",
    "currency_dic = {}\n",
    "for line in f1:\n",
    "    line = line.split(\" \")\n",
    "#     print(line)\n",
    "    cur = line[0]\n",
    "    con = line[1]\n",
    "    currency_dic[cur]=con\n",
    "\n",
    "# print(currency_dic)\n",
    "# print (type(currency_dic))\n",
    "\n",
    "    \n",
    "def curconv(currency,money):\n",
    "    value = float(currency_dic[currency])\n",
    "    calc = int(money) * value\n",
    "    return calc\n",
    "        \n",
    "curconv('JPY',100)\n"
   ]
  },
  {
   "cell_type": "code",
   "execution_count": null,
   "id": "3c980fe9",
   "metadata": {
    "scrolled": true
   },
   "outputs": [],
   "source": [
    "# for line in f1:\n",
    "#     print(line,end=\"\")\n",
    "\n",
    "# count = 0\n",
    "# for line in f1:\n",
    "#     count += 1\n",
    "#     print(f\"line {count}: {line}\",end = \"\")\n",
    "\n",
    "# print(f1)\n",
    "# print(f1.split())\n",
    "# f1=f1.read()\n",
    "# print(f1)\n",
    "\n",
    "currency_dic = {}\n",
    "\n",
    "# for cur in f1"
   ]
  },
  {
   "cell_type": "markdown",
   "id": "73f82a34",
   "metadata": {},
   "source": [
    "## Question 9\n",
    "    Each of the following will cause an exception (an error). Identify what type of exception each will cause.\n",
    "    Trying to add incompatible variables, as in\n",
    "    adding 6 + ‘a’\n",
    "    Referring to the 12\n",
    "    th item of a list that has only 10\n",
    "    items\n",
    "    Using a value that is out of range for a functi\n",
    "    on’s\n",
    "    input, such as calling math.sqrt( 1.0)\n",
    "    Using an undeclared variable, such as\n",
    "    p rint(x)\n",
    "    when x has not been defined\n",
    "    Trying to open a file that does not exist, such as\n",
    "    mistyping the file name or looking in the wrong\n",
    "    directory."
   ]
  },
  {
   "cell_type": "code",
   "execution_count": 196,
   "id": "d7fc82de",
   "metadata": {
    "scrolled": true
   },
   "outputs": [
    {
     "ename": "FileNotFoundError",
     "evalue": "[Errno 2] No such file or directory: 'currrrencies.txt'",
     "output_type": "error",
     "traceback": [
      "\u001b[1;31m---------------------------------------------------------------------------\u001b[0m",
      "\u001b[1;31mFileNotFoundError\u001b[0m                         Traceback (most recent call last)",
      "\u001b[1;32m~\\AppData\\Local\\Temp/ipykernel_37540/899285740.py\u001b[0m in \u001b[0;36m<module>\u001b[1;34m\u001b[0m\n\u001b[0;32m     13\u001b[0m \u001b[1;31m# NameError: name 'j' is not defined\u001b[0m\u001b[1;33m\u001b[0m\u001b[1;33m\u001b[0m\u001b[0m\n\u001b[0;32m     14\u001b[0m \u001b[1;33m\u001b[0m\u001b[0m\n\u001b[1;32m---> 15\u001b[1;33m \u001b[0mf2\u001b[0m \u001b[1;33m=\u001b[0m \u001b[0mopen\u001b[0m\u001b[1;33m(\u001b[0m\u001b[1;34m'currrrencies.txt'\u001b[0m\u001b[1;33m)\u001b[0m\u001b[1;33m\u001b[0m\u001b[1;33m\u001b[0m\u001b[0m\n\u001b[0m",
      "\u001b[1;31mFileNotFoundError\u001b[0m: [Errno 2] No such file or directory: 'currrrencies.txt'"
     ]
    }
   ],
   "source": [
    "# print(6 + 'a')\n",
    "#TypeError: unsupported operand type(s) for +: 'int' and 'str'\n",
    "\n",
    "# alp = 'abcdefghij'\n",
    "# print(alp[12])\n",
    "# IndexError: string index out of range\n",
    "\n",
    "# import math\n",
    "# math.sqrt(-1010000.0)\n",
    "# ValueError: math domain error\n",
    "\n",
    "# print(j)\n",
    "# NameError: name 'j' is not defined\n",
    "\n",
    "# f2 = open('currrrencies.txt')\n",
    "# FileNotFoundError: [Errno 2] No such file or directory: 'currrrencies.txt'"
   ]
  },
  {
   "cell_type": "markdown",
   "id": "d3b47a91",
   "metadata": {},
   "source": [
    "## Question 10\n",
    "    Encryption is the process of hiding the meaning of a text by substituting letters in the message with other letters, according to some system. If the process is successful, no one but the intended recipient can understand the encrypted message. Cryptanalysis refers to attempts to undo the encryption, even if some details of the encryption are unknown (for example, if an encrypted message has been intercepted). The first step of cryptanalysis is often to build up a table of letter frequencies in the encrypted text. Assume that the string letters is already defined as 'abcdefghijklmnopqrstuvwxyz'. Write a function called frequencies() that takes a string as its only parameter, and returns a list of integers, showing the number of times each character appears in the text. Your function may ignore any characters that are not in letters.\n",
    "    >>> frequencies('The quick red fox got bored and went home.')\n",
    "    [1, 1, 1, 3, 5, 1, 1, 2, 1, 0, 1, 0, 1, 2, 4, 0, 1, 2, 0, 2, 1, 0, 1, 1, 0, 0]\n",
    "    >>> frequencies('apple')"
   ]
  },
  {
   "cell_type": "code",
   "execution_count": 1,
   "id": "5b309bae",
   "metadata": {},
   "outputs": [
    {
     "data": {
      "text/plain": [
       "[1, 0, 0, 0, 1, 0, 0, 0, 0, 0, 0, 1, 0, 0, 0, 2, 0, 0, 0, 0, 0, 0, 0, 0, 0, 0]"
      ]
     },
     "execution_count": 1,
     "metadata": {},
     "output_type": "execute_result"
    }
   ],
   "source": [
    "\n",
    "\n",
    "def frequencies(a):\n",
    "    con = 'abcdefghijklmnopqrstuvwxyz'\n",
    "    list =[]\n",
    "    count = 0\n",
    "    for char in con:\n",
    "        if char in a:\n",
    "            count = a.count(char)\n",
    "            list.append(count)\n",
    "        else:\n",
    "            list.append(0)\n",
    "    return list\n",
    "\n",
    "            \n",
    "frequencies('apple')\n",
    "# frequencies('The quick red fox got bored and went home.')\n"
   ]
  }
 ],
 "metadata": {
  "kernelspec": {
   "display_name": "Python 3 (ipykernel)",
   "language": "python",
   "name": "python3"
  },
  "language_info": {
   "codemirror_mode": {
    "name": "ipython",
    "version": 3
   },
   "file_extension": ".py",
   "mimetype": "text/x-python",
   "name": "python",
   "nbconvert_exporter": "python",
   "pygments_lexer": "ipython3",
   "version": "3.9.7"
  }
 },
 "nbformat": 4,
 "nbformat_minor": 5
}
